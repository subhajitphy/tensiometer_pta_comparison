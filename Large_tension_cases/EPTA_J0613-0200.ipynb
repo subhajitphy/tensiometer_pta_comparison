{
 "cells": [
  {
   "cell_type": "code",
   "execution_count": 1,
   "id": "86e11ebd-3520-4422-97be-fccf3ec824ea",
   "metadata": {},
   "outputs": [],
   "source": [
    "psrname='J0613-0200'"
   ]
  },
  {
   "cell_type": "code",
   "execution_count": 5,
   "id": "ac52b0af-4f63-442a-a311-142b74472c4b",
   "metadata": {},
   "outputs": [],
   "source": [
    "spna_dir='/media/root1/3PAR/sdandapat/posteriors/EPTA-ONLY/SPNA/'+psrname+'/TM_WN_RN10_DM144/ptmcmc/'\n",
    "spnta_dir='/media/root1/3PAR/sdandapat/posteriors/EPTA-ONLY/SPNTA/'+psrname+'/results/'"
   ]
  },
  {
   "cell_type": "code",
   "execution_count": 6,
   "id": "92a2c702-fe8a-436d-81c1-986a9b552c71",
   "metadata": {},
   "outputs": [],
   "source": [
    "%matplotlib inline\n",
    "import sys, os\n",
    "sys.path.insert(0,os.path.realpath(os.path.join(os.getcwd(),'../..')))\n",
    "from getdist import plots, MCSamples\n",
    "from getdist.gaussian_mixtures import GaussianND\n",
    "import getdist\n",
    "getdist.chains.print_load_details = False\n",
    "import scipy\n",
    "import matplotlib.pyplot as plt\n",
    "import IPython\n",
    "from IPython.display import Markdown\n",
    "import numpy as np\n",
    "import seaborn as sns\n",
    "# import the tensiometer tools that we need:\n",
    "import tensiometer\n",
    "from tensiometer import utilities\n",
    "from tensiometer import gaussian_tension\n",
    "from tensiometer import mcmc_tension\n",
    "import pandas as pd"
   ]
  },
  {
   "cell_type": "code",
   "execution_count": 7,
   "id": "4e1865d2-f4f3-42c6-9dfa-3dd7af42835c",
   "metadata": {},
   "outputs": [],
   "source": [
    "epta_spna_1=np.loadtxt(spna_dir+'chain_1.txt')\n",
    "par_epta_spna=pd.read_csv(spna_dir+'pars.txt', header = None)\n",
    "lspn=len(par_epta_spna)\n",
    "epta_spna_2=epta_spna_1.T"
   ]
  },
  {
   "cell_type": "code",
   "execution_count": 9,
   "id": "a4287f78-a7ac-4b25-b0eb-d28ea867acbc",
   "metadata": {},
   "outputs": [],
   "source": [
    "epta_spnta_1=np.loadtxt(spnta_dir+'TNfinal-'+psrname+'-post_equal_weights.dat')\n",
    "par_epta_spnta=pd.read_csv(spnta_dir+'TNfinal-'+psrname+'-.paramnames', header = None)\n",
    "lspnt=len(par_epta_spnta)\n",
    "epta_spnta_2=epta_spnta_1.T"
   ]
  },
  {
   "cell_type": "code",
   "execution_count": 12,
   "id": "f00ce232-4742-4e2b-81f7-8b519f7c8003",
   "metadata": {},
   "outputs": [
    {
     "data": {
      "text/html": [
       "<div>\n",
       "<style scoped>\n",
       "    .dataframe tbody tr th:only-of-type {\n",
       "        vertical-align: middle;\n",
       "    }\n",
       "\n",
       "    .dataframe tbody tr th {\n",
       "        vertical-align: top;\n",
       "    }\n",
       "\n",
       "    .dataframe thead th {\n",
       "        text-align: right;\n",
       "    }\n",
       "</style>\n",
       "<table border=\"1\" class=\"dataframe\">\n",
       "  <thead>\n",
       "    <tr style=\"text-align: right;\">\n",
       "      <th></th>\n",
       "      <th>0</th>\n",
       "    </tr>\n",
       "  </thead>\n",
       "  <tbody>\n",
       "    <tr>\n",
       "      <th>0</th>\n",
       "      <td>J0613-0200_EFF.EBPP.1360_efac</td>\n",
       "    </tr>\n",
       "    <tr>\n",
       "      <th>1</th>\n",
       "      <td>J0613-0200_EFF.EBPP.1360_log10_tnequad</td>\n",
       "    </tr>\n",
       "    <tr>\n",
       "      <th>2</th>\n",
       "      <td>J0613-0200_EFF.EBPP.1410_efac</td>\n",
       "    </tr>\n",
       "    <tr>\n",
       "      <th>3</th>\n",
       "      <td>J0613-0200_EFF.EBPP.1410_log10_tnequad</td>\n",
       "    </tr>\n",
       "    <tr>\n",
       "      <th>4</th>\n",
       "      <td>J0613-0200_EFF.EBPP.2639_efac</td>\n",
       "    </tr>\n",
       "    <tr>\n",
       "      <th>5</th>\n",
       "      <td>J0613-0200_EFF.EBPP.2639_log10_tnequad</td>\n",
       "    </tr>\n",
       "    <tr>\n",
       "      <th>6</th>\n",
       "      <td>J0613-0200_EFF.P200.1380_efac</td>\n",
       "    </tr>\n",
       "    <tr>\n",
       "      <th>7</th>\n",
       "      <td>J0613-0200_EFF.P200.1380_log10_tnequad</td>\n",
       "    </tr>\n",
       "    <tr>\n",
       "      <th>8</th>\n",
       "      <td>J0613-0200_EFF.P217.1380_efac</td>\n",
       "    </tr>\n",
       "    <tr>\n",
       "      <th>9</th>\n",
       "      <td>J0613-0200_EFF.P217.1380_log10_tnequad</td>\n",
       "    </tr>\n",
       "    <tr>\n",
       "      <th>10</th>\n",
       "      <td>J0613-0200_EFF.S110.2487_efac</td>\n",
       "    </tr>\n",
       "    <tr>\n",
       "      <th>11</th>\n",
       "      <td>J0613-0200_EFF.S110.2487_log10_tnequad</td>\n",
       "    </tr>\n",
       "    <tr>\n",
       "      <th>12</th>\n",
       "      <td>J0613-0200_JBO.DFB.1400_efac</td>\n",
       "    </tr>\n",
       "    <tr>\n",
       "      <th>13</th>\n",
       "      <td>J0613-0200_JBO.DFB.1400_log10_tnequad</td>\n",
       "    </tr>\n",
       "    <tr>\n",
       "      <th>14</th>\n",
       "      <td>J0613-0200_JBO.DFB.1520_efac</td>\n",
       "    </tr>\n",
       "    <tr>\n",
       "      <th>15</th>\n",
       "      <td>J0613-0200_JBO.DFB.1520_log10_tnequad</td>\n",
       "    </tr>\n",
       "    <tr>\n",
       "      <th>16</th>\n",
       "      <td>J0613-0200_JBO.ROACH.1520_efac</td>\n",
       "    </tr>\n",
       "    <tr>\n",
       "      <th>17</th>\n",
       "      <td>J0613-0200_JBO.ROACH.1520_log10_tnequad</td>\n",
       "    </tr>\n",
       "    <tr>\n",
       "      <th>18</th>\n",
       "      <td>J0613-0200_LEAP.1396_efac</td>\n",
       "    </tr>\n",
       "    <tr>\n",
       "      <th>19</th>\n",
       "      <td>J0613-0200_LEAP.1396_log10_tnequad</td>\n",
       "    </tr>\n",
       "    <tr>\n",
       "      <th>20</th>\n",
       "      <td>J0613-0200_NRT.BON.1400_efac</td>\n",
       "    </tr>\n",
       "    <tr>\n",
       "      <th>21</th>\n",
       "      <td>J0613-0200_NRT.BON.1400_log10_tnequad</td>\n",
       "    </tr>\n",
       "    <tr>\n",
       "      <th>22</th>\n",
       "      <td>J0613-0200_NRT.BON.1600_efac</td>\n",
       "    </tr>\n",
       "    <tr>\n",
       "      <th>23</th>\n",
       "      <td>J0613-0200_NRT.BON.1600_log10_tnequad</td>\n",
       "    </tr>\n",
       "    <tr>\n",
       "      <th>24</th>\n",
       "      <td>J0613-0200_NRT.BON.2000_efac</td>\n",
       "    </tr>\n",
       "    <tr>\n",
       "      <th>25</th>\n",
       "      <td>J0613-0200_NRT.BON.2000_log10_tnequad</td>\n",
       "    </tr>\n",
       "    <tr>\n",
       "      <th>26</th>\n",
       "      <td>J0613-0200_NRT.NUPPI.1484_efac</td>\n",
       "    </tr>\n",
       "    <tr>\n",
       "      <th>27</th>\n",
       "      <td>J0613-0200_NRT.NUPPI.1484_log10_tnequad</td>\n",
       "    </tr>\n",
       "    <tr>\n",
       "      <th>28</th>\n",
       "      <td>J0613-0200_NRT.NUPPI.1854_efac</td>\n",
       "    </tr>\n",
       "    <tr>\n",
       "      <th>29</th>\n",
       "      <td>J0613-0200_NRT.NUPPI.1854_log10_tnequad</td>\n",
       "    </tr>\n",
       "    <tr>\n",
       "      <th>30</th>\n",
       "      <td>J0613-0200_NRT.NUPPI.2539_efac</td>\n",
       "    </tr>\n",
       "    <tr>\n",
       "      <th>31</th>\n",
       "      <td>J0613-0200_NRT.NUPPI.2539_log10_tnequad</td>\n",
       "    </tr>\n",
       "    <tr>\n",
       "      <th>32</th>\n",
       "      <td>J0613-0200_WSRT.P1.1380_efac</td>\n",
       "    </tr>\n",
       "    <tr>\n",
       "      <th>33</th>\n",
       "      <td>J0613-0200_WSRT.P1.1380_log10_tnequad</td>\n",
       "    </tr>\n",
       "    <tr>\n",
       "      <th>34</th>\n",
       "      <td>J0613-0200_WSRT.P1.328_efac</td>\n",
       "    </tr>\n",
       "    <tr>\n",
       "      <th>35</th>\n",
       "      <td>J0613-0200_WSRT.P1.328_log10_tnequad</td>\n",
       "    </tr>\n",
       "    <tr>\n",
       "      <th>36</th>\n",
       "      <td>J0613-0200_WSRT.P1.382_efac</td>\n",
       "    </tr>\n",
       "    <tr>\n",
       "      <th>37</th>\n",
       "      <td>J0613-0200_WSRT.P1.382_log10_tnequad</td>\n",
       "    </tr>\n",
       "    <tr>\n",
       "      <th>38</th>\n",
       "      <td>J0613-0200_WSRT.P2.1380_efac</td>\n",
       "    </tr>\n",
       "    <tr>\n",
       "      <th>39</th>\n",
       "      <td>J0613-0200_WSRT.P2.1380_log10_tnequad</td>\n",
       "    </tr>\n",
       "    <tr>\n",
       "      <th>40</th>\n",
       "      <td>J0613-0200_dm_gp_gamma</td>\n",
       "    </tr>\n",
       "    <tr>\n",
       "      <th>41</th>\n",
       "      <td>J0613-0200_dm_gp_log10_A</td>\n",
       "    </tr>\n",
       "    <tr>\n",
       "      <th>42</th>\n",
       "      <td>J0613-0200_rn_gamma</td>\n",
       "    </tr>\n",
       "    <tr>\n",
       "      <th>43</th>\n",
       "      <td>J0613-0200_rn_log10_A</td>\n",
       "    </tr>\n",
       "  </tbody>\n",
       "</table>\n",
       "</div>"
      ],
      "text/plain": [
       "                                          0\n",
       "0             J0613-0200_EFF.EBPP.1360_efac\n",
       "1    J0613-0200_EFF.EBPP.1360_log10_tnequad\n",
       "2             J0613-0200_EFF.EBPP.1410_efac\n",
       "3    J0613-0200_EFF.EBPP.1410_log10_tnequad\n",
       "4             J0613-0200_EFF.EBPP.2639_efac\n",
       "5    J0613-0200_EFF.EBPP.2639_log10_tnequad\n",
       "6             J0613-0200_EFF.P200.1380_efac\n",
       "7    J0613-0200_EFF.P200.1380_log10_tnequad\n",
       "8             J0613-0200_EFF.P217.1380_efac\n",
       "9    J0613-0200_EFF.P217.1380_log10_tnequad\n",
       "10            J0613-0200_EFF.S110.2487_efac\n",
       "11   J0613-0200_EFF.S110.2487_log10_tnequad\n",
       "12             J0613-0200_JBO.DFB.1400_efac\n",
       "13    J0613-0200_JBO.DFB.1400_log10_tnequad\n",
       "14             J0613-0200_JBO.DFB.1520_efac\n",
       "15    J0613-0200_JBO.DFB.1520_log10_tnequad\n",
       "16           J0613-0200_JBO.ROACH.1520_efac\n",
       "17  J0613-0200_JBO.ROACH.1520_log10_tnequad\n",
       "18                J0613-0200_LEAP.1396_efac\n",
       "19       J0613-0200_LEAP.1396_log10_tnequad\n",
       "20             J0613-0200_NRT.BON.1400_efac\n",
       "21    J0613-0200_NRT.BON.1400_log10_tnequad\n",
       "22             J0613-0200_NRT.BON.1600_efac\n",
       "23    J0613-0200_NRT.BON.1600_log10_tnequad\n",
       "24             J0613-0200_NRT.BON.2000_efac\n",
       "25    J0613-0200_NRT.BON.2000_log10_tnequad\n",
       "26           J0613-0200_NRT.NUPPI.1484_efac\n",
       "27  J0613-0200_NRT.NUPPI.1484_log10_tnequad\n",
       "28           J0613-0200_NRT.NUPPI.1854_efac\n",
       "29  J0613-0200_NRT.NUPPI.1854_log10_tnequad\n",
       "30           J0613-0200_NRT.NUPPI.2539_efac\n",
       "31  J0613-0200_NRT.NUPPI.2539_log10_tnequad\n",
       "32             J0613-0200_WSRT.P1.1380_efac\n",
       "33    J0613-0200_WSRT.P1.1380_log10_tnequad\n",
       "34              J0613-0200_WSRT.P1.328_efac\n",
       "35     J0613-0200_WSRT.P1.328_log10_tnequad\n",
       "36              J0613-0200_WSRT.P1.382_efac\n",
       "37     J0613-0200_WSRT.P1.382_log10_tnequad\n",
       "38             J0613-0200_WSRT.P2.1380_efac\n",
       "39    J0613-0200_WSRT.P2.1380_log10_tnequad\n",
       "40                   J0613-0200_dm_gp_gamma\n",
       "41                 J0613-0200_dm_gp_log10_A\n",
       "42                      J0613-0200_rn_gamma\n",
       "43                    J0613-0200_rn_log10_A"
      ]
     },
     "execution_count": 12,
     "metadata": {},
     "output_type": "execute_result"
    }
   ],
   "source": [
    "par_epta_spna"
   ]
  },
  {
   "cell_type": "code",
   "execution_count": 13,
   "id": "5f77cb54-c0ac-4503-aaf3-4703f2e0c5ec",
   "metadata": {},
   "outputs": [],
   "source": [
    "spna_arr=[epta_spna_2[lspn-1],epta_spna_2[lspn-2]]\n",
    "\n",
    "spnta_arr=[epta_spnta_2[lspnt-2],epta_spnta_2[lspnt-1]]"
   ]
  },
  {
   "cell_type": "code",
   "execution_count": 14,
   "id": "afc60256-3533-4aad-803c-30b725f7b792",
   "metadata": {},
   "outputs": [],
   "source": [
    "names = ['logA_DM','gamma_DM']\n",
    "labels=['\\log A_{DM}','\\gamma_{DM}']\n",
    "del_names=['delta_logA_DM','delta_gamma_DM']"
   ]
  },
  {
   "cell_type": "code",
   "execution_count": 15,
   "id": "5f7a1e01-6201-4472-b068-587e3038478f",
   "metadata": {},
   "outputs": [],
   "source": [
    "spna=MCSamples(samples=np.array(spna_arr).transpose(),loglikes=epta_spna_2[-3],names=names,labels=labels,label='SPNA')\n",
    "spnta=MCSamples(samples=np.array(spnta_arr).transpose(),loglikes=epta_spnta_2[-1],names = names,labels=labels,label='SPNTA \\n'+psrname)"
   ]
  },
  {
   "cell_type": "code",
   "execution_count": 16,
   "id": "3f4d779b-5e79-476b-9ef7-f1ef7016f173",
   "metadata": {},
   "outputs": [
    {
     "data": {
      "image/png": "[encoded data removed]",
      "text/plain": [
       "<Figure size 400x400 with 3 Axes>"
      ]
     },
     "metadata": {},
     "output_type": "display_data"
    }
   ],
   "source": [
    "%matplotlib inline\n",
    "g = plots.get_subplot_plotter()\n",
    "g.triangle_plot([spna,spnta], filled=True)\n",
    "plt.savefig(psrname+'_R_DM_EPTA.png',dpi=300)\n",
    "plt.show()"
   ]
  },
  {
   "cell_type": "code",
   "execution_count": 17,
   "id": "37f008e8-40d7-4fed-8310-792b34df9b71",
   "metadata": {},
   "outputs": [],
   "source": [
    "from diff_chain import  Diff_chain_shift"
   ]
  },
  {
   "cell_type": "code",
   "execution_count": 18,
   "id": "752ee714-e8b8-45bf-a786-6cf7cb1d7940",
   "metadata": {},
   "outputs": [
    {
     "name": "stderr",
     "output_type": "stream",
     "text": [
      "/media/root1/3PAR/sdandapat/work_dir/diff_chain.py:30: UserWarning: Tension is higher than 6 sigma!! chi squared estimators will be used to compute the tension.\n",
      "  warnings.warn('Tension is higher than 6 sigma!! chi squared estimators will be used to compute the tension.')\n"
     ]
    }
   ],
   "source": [
    "diff_chain, nsig, chi_2, D_B=Diff_chain_shift(spna,spnta)"
   ]
  },
  {
   "cell_type": "code",
   "execution_count": 19,
   "id": "042e6ff3-f3f5-4ddd-988f-a4fee66afb80",
   "metadata": {},
   "outputs": [
    {
     "data": {
      "image/png": "[encoded data removed]",
      "text/plain": [
       "<Figure size 400x400 with 3 Axes>"
      ]
     },
     "metadata": {},
     "output_type": "display_data"
    }
   ],
   "source": [
    "g = plots.get_subplot_plotter()\n",
    "#nsig=utilities.from_confidence_to_sigma(shift_probability)\n",
    "#getdist.plots.GetDistPlotSettings()\n",
    "g.triangle_plot(diff_chain, filled=True,legend_labels = [psrname+'\\n\\n$\\Delta_T=$'+\n",
    "                        str(\"{:.4f}\".format(nsig))+'$\\sigma$'],markers=[0,0,0,0])\n",
    "#g.add_label(['$\\Delta=$'+str(\"{:.2f}\".format(nsig))+'$\\sigma$'], colored_text=True)\n",
    "plt.savefig(psrname+'_diff_SPNTA.png',dpi=300)"
   ]
  },
  {
   "cell_type": "code",
   "execution_count": null,
   "id": "1a6664d8-ea92-472f-ad95-f513f46753e1",
   "metadata": {},
   "outputs": [],
   "source": []
  }
 ],
 "metadata": {
  "kernelspec": {
   "display_name": "ptacomp",
   "language": "python",
   "name": "ptacomp"
  },
  "language_info": {
   "codemirror_mode": {
    "name": "ipython",
    "version": 3
   },
   "file_extension": ".py",
   "mimetype": "text/x-python",
   "name": "python",
   "nbconvert_exporter": "python",
   "pygments_lexer": "ipython3",
   "version": "3.9.16"
  }
 },
 "nbformat": 4,
 "nbformat_minor": 5
}
