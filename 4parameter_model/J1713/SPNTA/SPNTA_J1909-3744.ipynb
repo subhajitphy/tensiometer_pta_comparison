{
 "cells": [
  {
   "cell_type": "code",
   "execution_count": 2,
   "id": "b96f9281",
   "metadata": {},
   "outputs": [],
   "source": [
    "psrname='J1909-3744'"
   ]
  },
  {
   "cell_type": "code",
   "execution_count": 3,
   "id": "e61fca6e",
   "metadata": {},
   "outputs": [],
   "source": [
    "EPTA_dir='/home/subhajit/EPTA_ONLY/'+psrname+'/results/'\n",
    "EINPTA_dir='/home/subhajit/EPTA+INPTA/'+psrname+'/results/'"
   ]
  },
  {
   "cell_type": "code",
   "execution_count": 1,
   "id": "f7f8f814",
   "metadata": {},
   "outputs": [
    {
     "name": "stderr",
     "output_type": "stream",
     "text": [
      "2023-03-17 22:32:38.563282: I tensorflow/tsl/cuda/cudart_stub.cc:28] Could not find cuda drivers on your machine, GPU will not be used.\n",
      "2023-03-17 22:32:38.591342: I tensorflow/tsl/cuda/cudart_stub.cc:28] Could not find cuda drivers on your machine, GPU will not be used.\n",
      "2023-03-17 22:32:38.591818: I tensorflow/core/platform/cpu_feature_guard.cc:182] This TensorFlow binary is optimized to use available CPU instructions in performance-critical operations.\n",
      "To enable the following instructions: AVX2 FMA, in other operations, rebuild TensorFlow with the appropriate compiler flags.\n",
      "2023-03-17 22:32:39.076543: W tensorflow/compiler/tf2tensorrt/utils/py_utils.cc:38] TF-TRT Warning: Could not find TensorRT\n"
     ]
    }
   ],
   "source": [
    "%matplotlib inline\n",
    "import sys, os\n",
    "sys.path.insert(0,os.path.realpath(os.path.join(os.getcwd(),'../..')))\n",
    "from getdist import plots, MCSamples\n",
    "from getdist.gaussian_mixtures import GaussianND\n",
    "import getdist\n",
    "getdist.chains.print_load_details = False\n",
    "import scipy\n",
    "import matplotlib.pyplot as plt\n",
    "import IPython\n",
    "from IPython.display import Markdown\n",
    "import numpy as np\n",
    "import seaborn as sns\n",
    "# import the tensiometer tools that we need:\n",
    "import tensiometer\n",
    "from tensiometer import utilities\n",
    "from tensiometer import gaussian_tension\n",
    "from tensiometer import mcmc_tension\n",
    "import pandas as pd"
   ]
  },
  {
   "cell_type": "code",
   "execution_count": 4,
   "id": "6a366c0d",
   "metadata": {},
   "outputs": [],
   "source": [
    "epta_1=np.loadtxt(EPTA_dir+'TNfinal-'+psrname+'-post_equal_weights.dat')\n",
    "par_epta=pd.read_csv(EPTA_dir+'TNfinal-'+psrname+'-.paramnames', header = None)\n",
    "len_epta=len(par_epta)\n",
    "epta_2=epta_1.T"
   ]
  },
  {
   "cell_type": "code",
   "execution_count": 5,
   "id": "7d1d6a10",
   "metadata": {},
   "outputs": [],
   "source": [
    "einpta_1=np.loadtxt(EINPTA_dir+'TNfinal-'+psrname+'-post_equal_weights.dat')\n",
    "par_einpta=pd.read_csv(EINPTA_dir+'TNfinal-'+psrname+'-.paramnames', header = None)\n",
    "len_einpta=len(par_einpta)\n",
    "einpta_2=einpta_1.T"
   ]
  },
  {
   "cell_type": "code",
   "execution_count": 6,
   "id": "ad475239",
   "metadata": {},
   "outputs": [],
   "source": [
    "epta_arr=[epta_2[len(par_epta)-4],epta_2[len(par_epta)-3],epta_2[len(par_epta)-2],epta_2[len(par_epta)-1]]\n",
    "\n",
    "einpta_arr=[einpta_2[len(par_einpta)-4],einpta_2[len(par_einpta)-3],einpta_2[len(par_einpta)-2],einpta_2[len(par_einpta)-1]]"
   ]
  },
  {
   "cell_type": "code",
   "execution_count": 7,
   "id": "21f9c0b4",
   "metadata": {},
   "outputs": [],
   "source": [
    "names = ['rn_logA','rn_gamma','dm_logA','dm_gamma']\n",
    "labels=['\\log A_R','\\gamma_R', '\\log A_{DM}','\\gamma_{DM}']\n",
    "del_names=['delta_logA','delta_gamma']"
   ]
  },
  {
   "cell_type": "code",
   "execution_count": 8,
   "id": "26980b44",
   "metadata": {},
   "outputs": [],
   "source": [
    "epta=MCSamples(samples=np.array(epta_arr).transpose(),loglikes=epta_2[-1],names=names,labels=labels,label='EPTA')\n",
    "einpta=MCSamples(samples=np.array(einpta_arr).transpose(),loglikes=einpta_2[-1],names = names,labels=labels,label='EPTA+INPTA \\n'+psrname)"
   ]
  },
  {
   "cell_type": "code",
   "execution_count": 11,
   "id": "b0b87bf4",
   "metadata": {},
   "outputs": [],
   "source": [
    "g = plots.get_subplot_plotter()\n",
    "g.triangle_plot([epta,einpta], filled=True)\n",
    "plt.savefig(psrname+'_R_DM.png',dpi=300)\n",
    "plt.show()"
   ]
  },
  {
   "cell_type": "code",
   "execution_count": 12,
   "id": "eaa7ec00",
   "metadata": {},
   "outputs": [],
   "source": [
    "from diff_chain import  Diff_chain_shift"
   ]
  },
  {
   "cell_type": "code",
   "execution_count": 13,
   "id": "92708e13",
   "metadata": {},
   "outputs": [
    {
     "name": "stdout",
     "output_type": "stream",
     "text": [
      "64/64 [==============================] - 1s 22ms/step - loss: 5.6748 - val_loss: 5.6719 - shift0_chi2: 21.0690 - shift0_pval: 0.9997 - shift0_nsigma: 3.6095 - chi2Z_ks: 0.0030 - chi2Z_ks_p: 0.7738 - lr: 1.0000e-04\n"
     ]
    }
   ],
   "source": [
    "diff_chain, shift_probability, shift_lower, shift_upper=Diff_chain_shift(epta,einpta)"
   ]
  },
  {
   "cell_type": "code",
   "execution_count": null,
   "id": "0d27cf52",
   "metadata": {},
   "outputs": [],
   "source": [
    "g = plots.get_subplot_plotter()\n",
    "nsig=utilities.from_confidence_to_sigma(shift_probability)\n",
    "#getdist.plots.GetDistPlotSettings()\n",
    "g.triangle_plot(diff_chain, filled=True,legend_labels = ['SPNTA: '+psrname+'\\n\\n$\\Delta_T=$'+\n",
    "                        str(\"{:.4f}\".format(nsig))+'$\\sigma$'],markers=[0,0,0,0])\n",
    "#g.add_label(['$\\Delta=$'+str(\"{:.2f}\".format(nsig))+'$\\sigma$'], colored_text=True)\n",
    "plt.savefig(psrname+'_diff_SPNTA.png',dpi=300)"
   ]
  },
  {
   "cell_type": "code",
   "execution_count": null,
   "id": "8797b902",
   "metadata": {},
   "outputs": [],
   "source": []
  }
 ],
 "metadata": {
  "kernelspec": {
   "display_name": "tension",
   "language": "python",
   "name": "tension"
  },
  "language_info": {
   "codemirror_mode": {
    "name": "ipython",
    "version": 3
   },
   "file_extension": ".py",
   "mimetype": "text/x-python",
   "name": "python",
   "nbconvert_exporter": "python",
   "pygments_lexer": "ipython3",
   "version": "3.9.16"
  }
 },
 "nbformat": 4,
 "nbformat_minor": 5
}
